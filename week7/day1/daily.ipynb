{
 "cells": [
  {
   "cell_type": "code",
   "execution_count": 214,
   "id": "a957d857",
   "metadata": {},
   "outputs": [],
   "source": [
    "import numpy as np\n",
    "\n",
    "M = 3\n",
    "N = 3\n",
    "\n",
    "table = np.random.randint(100, size=(M,N))"
   ]
  },
  {
   "cell_type": "code",
   "execution_count": 215,
   "id": "18f057f0",
   "metadata": {},
   "outputs": [
    {
     "data": {
      "text/plain": [
       "array([[80, 85, 25],\n",
       "       [96, 62, 13],\n",
       "       [75, 56, 43]])"
      ]
     },
     "execution_count": 215,
     "metadata": {},
     "output_type": "execute_result"
    }
   ],
   "source": [
    "table"
   ]
  },
  {
   "cell_type": "code",
   "execution_count": 216,
   "id": "bd9c173c",
   "metadata": {},
   "outputs": [
    {
     "data": {
      "text/plain": [
       "array([75, 56, 43])"
      ]
     },
     "execution_count": 216,
     "metadata": {},
     "output_type": "execute_result"
    }
   ],
   "source": [
    "table[2]"
   ]
  },
  {
   "cell_type": "code",
   "execution_count": 217,
   "id": "8fc9f5ac",
   "metadata": {},
   "outputs": [
    {
     "data": {
      "text/plain": [
       "array([[25],\n",
       "       [13],\n",
       "       [43]])"
      ]
     },
     "execution_count": 217,
     "metadata": {},
     "output_type": "execute_result"
    }
   ],
   "source": [
    "table[:3,2:3]"
   ]
  },
  {
   "cell_type": "code",
   "execution_count": 218,
   "id": "ebc3da8a",
   "metadata": {},
   "outputs": [],
   "source": [
    "table[-1] = 7"
   ]
  },
  {
   "cell_type": "code",
   "execution_count": 219,
   "id": "6ea87d7b",
   "metadata": {},
   "outputs": [
    {
     "data": {
      "text/plain": [
       "array([[80, 85, 25],\n",
       "       [96, 62, 13],\n",
       "       [ 7,  7,  7]])"
      ]
     },
     "execution_count": 219,
     "metadata": {},
     "output_type": "execute_result"
    }
   ],
   "source": [
    "table"
   ]
  },
  {
   "cell_type": "code",
   "execution_count": 220,
   "id": "871e8363",
   "metadata": {},
   "outputs": [
    {
     "name": "stdout",
     "output_type": "stream",
     "text": [
      "[[ 80  85 165]\n",
      " [ 96  62 158]\n",
      " [  7   7  14]]\n"
     ]
    }
   ],
   "source": [
    "table[:, -1]= table[:,0:-1].sum(axis = 1)\n",
    "\n",
    "print(table)"
   ]
  },
  {
   "cell_type": "code",
   "execution_count": null,
   "id": "39363ca0",
   "metadata": {},
   "outputs": [],
   "source": []
  }
 ],
 "metadata": {
  "kernelspec": {
   "display_name": "Python 3",
   "language": "python",
   "name": "python3"
  },
  "language_info": {
   "codemirror_mode": {
    "name": "ipython",
    "version": 3
   },
   "file_extension": ".py",
   "mimetype": "text/x-python",
   "name": "python",
   "nbconvert_exporter": "python",
   "pygments_lexer": "ipython3",
   "version": "3.8.8"
  }
 },
 "nbformat": 4,
 "nbformat_minor": 5
}
